{
 "cells": [
  {
   "cell_type": "markdown",
   "metadata": {},
   "source": [
    "Why have I created this repo? I like to read a lot; papers, blog posts, twitter threads, notebooks, you name it. When I read, i've been quite well at documenting this through my blog. The blog let's me sement my thoughts, improve retention, and log what i've read. it can be quite tedious work, and sometimes I simply don't have the time, or rather capacity to do it, but i've been quite good at it, at least up until a couple of months ago. now, even though I sometimes write quite extensive summaries or thoughts about papers, i've been pretty poor at looking back at my notes when i need to remember something in a paper i read, and i attribute this mainly to a lack of **indexing**. the process often looks like this: \"ooh, i know i've read something about X in a paper\" *scrolls through all [blog entries](https://leonericsson.github.io/indexer), not finding what i'm looking for immediately and just give up*. yes, i could just become more patient and keep looking, why not instead take this opportunity and build something! this is the motivation for this repo. \n",
    "\n",
    "my initial plan. before doing any valuable research, here's what i **think** is the way i want to solve this problem, including some questions that i yet don't know the answer to:\n",
    "\n",
    "1. save the link to every piece of research content i've read, that i can recall and find (i've already got a decent chunk saved).\n",
    "2. download the content.\n",
    "    - should everything be standardized into a format?\n",
    "    - do i need to be careful to exclude irrelevant information from the source?\n",
    "    - how do i deal with twitter threads?\n",
    "3. decide on an embedding model\n",
    "    - what is a good context size? relates to how we plan to chunk a 20 page paper.\n",
    "4. embed content\n",
    "    - how do we deal with long format texts e.g. papers?\n",
    "    - does the search engine need to rely on more than just a single embedding model?\n",
    "5. quantize embeddings to int8\n",
    "    - does this process impact the selected embedding model?\n",
    "5. index the embeddings\n",
    "6. re-ranker\n",
    "7. search engine\n",
    "     - how do we link the source content + source url to the search results? especially\n",
    "     considering that we will surely have multiple embedding points from the same source content.\n",
    "    \n",
    "okay, this seems like a good place to start don't you think?"
   ]
  },
  {
   "cell_type": "markdown",
   "metadata": {},
   "source": [
    "**comparing embedding models**"
   ]
  },
  {
   "cell_type": "code",
   "execution_count": null,
   "metadata": {},
   "outputs": [],
   "source": [
    "from sentence_transformers import SentenceTransformer\n",
    "from sentence_transformers.util import cos_sim\n",
    "from sentence_transformers.quantization import quantize_embeddings\n",
    "\n",
    "# 1. Specify preffered dimensions\n",
    "dimensions = 512\n",
    "\n",
    "# 2. load model\n",
    "model = SentenceTransformer(\"mixedbread-ai/mxbai-embed-large-v1\", truncate_dim=dimensions)\n",
    "\n",
    "# For retrieval you need to pass this prompt.\n",
    "query = 'Represent this sentence for searching relevant passages: are all layers in a transformer equally important?'\n",
    "\n",
    "docs = [\n",
    "    query,\n",
    "    \"\"\"Within the field of vector search, an intriguing development has arisen: binary vector search. This approach shows promise in tackling the long-standing issue of memory consumption by achieving a remarkable 30x reduction. However, a critical aspect that sparks debate is its effect on accuracy.\n",
    "\n",
    "We believe that using binary vector search, along with specific optimization techniques, can maintain similar accuracy. To provide clarity on this subject, we showcase a series of experiments that will demonstrate the effects and implications of this approach.\"\"\",\n",
    "    \"\"\"We empirically study a simple layer-pruning strategy for popular families of openweight pretrained LLMs, finding minimal degradation of performance on different\n",
    "question-answering benchmarks until after a large fraction (up to half) of the layers\n",
    "are removed. To prune these models, we identify the optimal block of layers to\n",
    "prune by considering similarity across layers; then, to “heal” the damage, we\n",
    "perform a small amount of finetuning. In particular, we use parameter-efficient\n",
    "finetuning (PEFT) methods, specifically quantization and Low Rank Adapters\n",
    "(QLoRA), such that each of our experiments can be performed on a single A100\n",
    "GPU. From a practical perspective, these results suggest that layer pruning methods\n",
    "can complement other PEFT strategies to further reduce computational resources of\n",
    "finetuning on the one hand, and can improve the memory and latency of inference\n",
    "on the other hand. From a scientific perspective, the robustness of these LLMs\n",
    "to the deletion of layers implies either that current pretraining methods are not\n",
    "properly leveraging the parameters in the deeper layers of the network or that the\n",
    "shallow layers play a critical role in storing knowledge.\"\"\",\n",
    "    \"\"\"In this work, we introduce a significant 1-bit LLM variant called BitNet b1.58, where every parameter\n",
    "is ternary, taking on values of {-1, 0, 1}. We have added an additional value of 0 to the original 1-bit\n",
    "BitNet, resulting in 1.58 bits in the binary system. BitNet b1.58 retains all the benefits of the original\n",
    "1-bit BitNet, including its new computation paradigm, which requires almost no multiplication\n",
    "operations for matrix multiplication and can be highly optimized. Additionally, it has the same energy\n",
    "consumption as the original 1-bit BitNet and is much more efficient in terms of memory consumption,\n",
    "throughput and latency compared to FP16 LLM baselines.\"\"\",\n",
    "]\n",
    "\n",
    "# 2. Encode\n",
    "embeddings = model.encode(docs)\n",
    "\n",
    "# Optional: Quantize the embeddings\n",
    "binary_embeddings = quantize_embeddings(embeddings, precision=\"ubinary\")\n",
    "\n",
    "similarities = cos_sim(embeddings[0], embeddings[1:])\n",
    "print('similarities:', similarities)\n"
   ]
  },
  {
   "cell_type": "code",
   "execution_count": null,
   "metadata": {},
   "outputs": [],
   "source": [
    "import torch.nn.functional as F\n",
    "from sentence_transformers import SentenceTransformer\n",
    "\n",
    "matryoshka_dim = 512\n",
    "\n",
    "model = SentenceTransformer(\"nomic-ai/nomic-embed-text-v1.5\", trust_remote_code=True)\n",
    "\n",
    "sentences = [\n",
    "    \"\"\"search_document: Within the field of vector search, an intriguing development has arisen: binary vector search. This approach shows promise in tackling the long-standing issue of memory consumption by achieving a remarkable 30x reduction. However, a critical aspect that sparks debate is its effect on accuracy.\n",
    "\n",
    "We believe that using binary vector search, along with specific optimization techniques, can maintain similar accuracy. To provide clarity on this subject, we showcase a series of experiments that will demonstrate the effects and implications of this approach.\"\"\",\n",
    "    \"\"\"search_document: We empirically study a simple layer-pruning strategy for popular families of openweight pretrained LLMs, finding minimal degradation of performance on different\n",
    "question-answering benchmarks until after a large fraction (up to half) of the layers\n",
    "are removed. To prune these models, we identify the optimal block of layers to\n",
    "prune by considering similarity across layers; then, to “heal” the damage, we\n",
    "perform a small amount of finetuning. In particular, we use parameter-efficient\n",
    "finetuning (PEFT) methods, specifically quantization and Low Rank Adapters\n",
    "(QLoRA), such that each of our experiments can be performed on a single A100\n",
    "GPU. From a practical perspective, these results suggest that layer pruning methods\n",
    "can complement other PEFT strategies to further reduce computational resources of\n",
    "finetuning on the one hand, and can improve the memory and latency of inference\n",
    "on the other hand. From a scientific perspective, the robustness of these LLMs\n",
    "to the deletion of layers implies either that current pretraining methods are not\n",
    "properly leveraging the parameters in the deeper layers of the network or that the\n",
    "shallow layers play a critical role in storing knowledge.\"\"\",\n",
    "    \"\"\"search_document: In this work, we introduce a significant 1-bit LLM variant called BitNet b1.58, where every parameter\n",
    "is ternary, taking on values of {-1, 0, 1}. We have added an additional value of 0 to the original 1-bit\n",
    "BitNet, resulting in 1.58 bits in the binary system. BitNet b1.58 retains all the benefits of the original\n",
    "1-bit BitNet, including its new computation paradigm, which requires almost no multiplication\n",
    "operations for matrix multiplication and can be highly optimized. Additionally, it has the same energy\n",
    "consumption as the original 1-bit BitNet and is much more efficient in terms of memory consumption,\n",
    "throughput and latency compared to FP16 LLM baselines.\"\"\",\n",
    "]\n",
    "embeddings = model.encode(sentences, convert_to_tensor=True)\n",
    "embeddings = F.layer_norm(embeddings, normalized_shape=(embeddings.shape[1],))\n",
    "#embeddings = embeddings[:, :matryoshka_dim]\n",
    "#embeddings = F.normalize(embeddings, p=2, dim=1)\n",
    "\n",
    "print(embeddings)\n"
   ]
  },
  {
   "cell_type": "code",
   "execution_count": null,
   "metadata": {},
   "outputs": [],
   "source": [
    "query = \"search_query: are all layers in a transformer equally important?\"\n",
    "query_embedding = model.encode(query, convert_to_tensor=True)"
   ]
  },
  {
   "cell_type": "code",
   "execution_count": null,
   "metadata": {},
   "outputs": [],
   "source": [
    "from sentence_transformers import SentenceTransformer\n",
    "from sentence_transformers.util import cos_sim\n",
    "\n",
    "model = SentenceTransformer(\n",
    "    \"jinaai/jina-embeddings-v2-base-en\", # switch to en/zh for English or Chinese\n",
    "    trust_remote_code=True\n",
    ")\n",
    "\n",
    "# control your input sequence length up to 8192\n",
    "model.max_seq_length = 1024\n",
    "\n",
    "embeddings = model.encode([\n",
    "    'How is the weather today?',\n",
    "    'What is the current weather like today?'\n",
    "])\n",
    "print(cos_sim(embeddings[0], embeddings[1]))\n"
   ]
  },
  {
   "cell_type": "markdown",
   "metadata": {},
   "source": [
    "I spent the last 30 minutes comparing embedding models before realizing that this doesn't matter right now. we'll come back to this decision when we have a framework to populate the embedding space, at this stage any decent model will do. i'll leave the links to the prospects for future reference\n",
    "\n",
    "1. https://huggingface.co/mixedbread-ai/mxbai-embed-large-v1\n",
    "2. https://huggingface.co/jinaai/jina-embeddings-v2-base-en\n",
    "3. https://huggingface.co/nomic-ai/nomic-embed-text-v1.5\n",
    "\n",
    "for no specific reason let's move forward with mixedbread's embedder for now..\n"
   ]
  },
  {
   "cell_type": "markdown",
   "metadata": {},
   "source": [
    "---"
   ]
  },
  {
   "cell_type": "markdown",
   "metadata": {},
   "source": [
    "now that we've settled on an embedding model, the next major consideration is how to handle the varying content lengths of our documents. i want to be very specific in my search queries, far more so than what embedding only the abstract of a paper allows. for instance, i know that the llama 2 paper contains detailed ablations comparing mqa, gqa, and mha; and i should easily be able to query for that. so what granularity of document chunking does this specificity require? i don't know. but we'll find out together! starting of with the most naive approach; just embed the entire document!"
   ]
  },
  {
   "cell_type": "markdown",
   "metadata": {},
   "source": [
    "let's download and store our content"
   ]
  },
  {
   "cell_type": "code",
   "execution_count": null,
   "metadata": {},
   "outputs": [],
   "source": [
    "import requests\n",
    "import fitz  # PyMuPDF\n",
    "from bs4 import BeautifulSoup\n",
    "from typing import Tuple\n",
    "\n",
    "def download(url: str) -> Tuple[str, str]:\n",
    "    \"\"\"Download content from the given URL, determine its type, and extract the title and text.\"\"\"\n",
    "    response = requests.get(url)\n",
    "    content_type = response.headers['Content-Type']\n",
    "\n",
    "    def _parse_html(content: bytes) -> Tuple[str, str]:\n",
    "        \"\"\"\n",
    "        Extract the title and text content from HTML data.\n",
    "        \"\"\"\n",
    "        soup = BeautifulSoup(content, 'html.parser')\n",
    "        title = soup.find('title').text\n",
    "        text = soup.get_text()\n",
    "        \n",
    "        text = text.replace('\\n', ' ')\n",
    "        text = ' '.join(text.split())\n",
    "        \n",
    "        return title, text\n",
    "    \n",
    "    def _parse_pdf(content: bytes) -> Tuple[str, str]:\n",
    "        \"\"\"\n",
    "        Extract the title and text content from a PDF file.\n",
    "        \"\"\"\n",
    "        filename = 'document.pdf'\n",
    "        with open(filename, 'wb') as f:\n",
    "            f.write(content)\n",
    "        \n",
    "        doc = fitz.open(filename)\n",
    "        text = \"\"\n",
    "        for page in doc:\n",
    "            text += page.get_text()\n",
    "        \n",
    "        text = text.replace('\\n', ' ')\n",
    "        text = ' '.join(text.split())\n",
    "\n",
    "        # Extract title from metadata or the first block of text\n",
    "        metadata = doc.metadata\n",
    "        title = metadata.get('title', '')\n",
    "        if not title:\n",
    "            first_page = doc[0]\n",
    "            blocks = first_page.get_text(\"blocks\")\n",
    "            \n",
    "            # Assuming the title is in the first block\n",
    "            if blocks:\n",
    "                title = blocks[0][4].strip()\n",
    "            else:\n",
    "                title = 'unknown'\n",
    "\n",
    "        return title, text\n",
    "\n",
    "    if 'text/html' in content_type:\n",
    "        title, text = _parse_html(response.content)\n",
    "    elif 'application/pdf' in content_type:\n",
    "        title, text = _parse_pdf(response.content)\n",
    "    else:\n",
    "        raise Exception('Unsupported content type')\n",
    "    \n",
    "    # Save content to file\n",
    "    with open(f'data/{title}.txt', 'w') as f:\n",
    "        f.write(text)\n",
    "\n",
    "    return title, text"
   ]
  },
  {
   "cell_type": "markdown",
   "metadata": {},
   "source": [
    "the above is straightforward. most of our content will either be html parsable by beautifulsoup or a pdf, which we can handle using this [pymupdf](https://pymupdf.readthedocs.io/en/latest/the-basics.html) package i found. i’ve future-proofed by implementing download(url), which takes a url and downloads the content to a .txt file. we’ll revisit the save format in the future; perhaps some kind of json structure, given that we’ll want to link content chunks to urls. however, that is for future me to solve."
   ]
  },
  {
   "cell_type": "code",
   "execution_count": 4,
   "metadata": {},
   "outputs": [
    {
     "data": {
      "text/plain": [
       "('Mixture of Experts Explained',\n",
       " 'Mixture of Experts Explained Hugging Face Models Datasets Spaces Posts Docs Solutions Pricing Log In Sign Up Back to Articles Mixture of Experts Explained Published December 11, 2023 Update on GitHub Upvote 77 +71 osanseviero Omar Sanseviero lewtun Lewis Tunstall philschmid Philipp Schmid smangrul Sourab Mangrulkar ybelkada Younes Belkada pcuenq Pedro Cuenca Table of Contents TL;DR What is a Mixture of Experts (MoE)? A Brief History of MoEs What is Sparsity? Load balancing tokens for MoEs MoEs and Transformers Switch Transformers Stabilizing training with router Z-loss What does an expert learn? How does scaling the number of experts impact pretraining? Fine-tuning MoEs When to use sparse MoEs vs dense models? Making MoEs go brrr Parallelism Capacity Factor and communication costs Serving techniques More on efficient training Open Source MoEs Exciting directions of work Some resources Citation With the release of Mixtral 8x7B (announcement, model card), a class of transformer has become the hottest topic in the open AI community: Mixture of Experts, or MoEs for short. In this blog post, we take a look at the building blocks of MoEs, how they’re trained, and the tradeoffs to consider when serving them for inference. Let’s dive in! Table of Contents What is a Mixture of Experts? A Brief History of MoEs What is Sparsity? Load Balancing tokens for MoEs MoEs and Transformers Switch Transformers Stabilizing training with router Z-loss What does an expert learn? How does scaling the number of experts impact pretraining? Fine-tuning MoEs When to use sparse MoEs vs dense models? Making MoEs go brrr Expert Parallelism Capacity Factor and Communication costs Serving Techniques Efficient Training Open Source MoEs Exciting directions of work Some resources TL;DR MoEs: Are pretrained much faster vs. dense models Have faster inference compared to a model with the same number of parameters Require high VRAM as all experts are loaded in memory Face many challenges in fine-tuning, but recent work with MoE instruction-tuning is promising Let’s dive in! What is a Mixture of Experts (MoE)? The scale of a model is one of the most important axes for better model quality. Given a fixed computing budget, training a larger model for fewer steps is better than training a smaller model for more steps. Mixture of Experts enable models to be pretrained with far less compute, which means you can dramatically scale up the model or dataset size with the same compute budget as a dense model. In particular, a MoE model should achieve the same quality as its dense counterpart much faster during pretraining. So, what exactly is a MoE? In the context of transformer models, a MoE consists of two main elements: Sparse MoE layers are used instead of dense feed-forward network (FFN) layers. MoE layers have a certain number of “experts” (e.g. 8), where each expert is a neural network. In practice, the experts are FFNs, but they can also be more complex networks or even a MoE itself, leading to hierarchical MoEs! A gate network or router, that determines which tokens are sent to which expert. For example, in the image below, the token “More” is sent to the second expert, and the token \"Parameters” is sent to the first network. As we’ll explore later, we can send a token to more than one expert. How to route a token to an expert is one of the big decisions when working with MoEs - the router is composed of learned parameters and is pretrained at the same time as the rest of the network. MoE layer from the [Switch Transformers paper](https://arxiv.org/abs/2101.03961) So, to recap, in MoEs we replace every FFN layer of the transformer model with an MoE layer, which is composed of a gate network and a certain number of experts. Although MoEs provide benefits like efficient pretraining and faster inference compared to dense models, they also come with challenges: Training: MoEs enable significantly more compute-efficient pretraining, but they’ve historically struggled to generalize during fine-tuning, leading to overfitting. Inference: Although a MoE might have many parameters, only some of them are used during inference. This leads to much faster inference compared to a dense model with the same number of parameters. However, all parameters need to be loaded in RAM, so memory requirements are high. For example, given a MoE like Mixtral 8x7B, we’ll need to have enough VRAM to hold a dense 47B parameter model. Why 47B parameters and not 8 x 7B = 56B? That’s because in MoE models, only the FFN layers are treated as individual experts, and the rest of the model parameters are shared. At the same time, assuming just two experts are being used per token, the inference speed (FLOPs) is like using a 12B model (as opposed to a 14B model), because it computes 2x7B matrix multiplications, but with some layers shared (more on this soon). Now that we have a rough idea of what a MoE is, let’s take a look at the research developments that led to their invention. A Brief History of MoEs The roots of MoEs come from the 1991 paper Adaptive Mixture of Local Experts. The idea, akin to ensemble methods, was to have a supervised procedure for a system composed of separate networks, each handling a different subset of the training cases. Each separate network, or expert, specializes in a different region of the input space. How is the expert chosen? A gating network determines the weights for each expert. During training, both the expert and the gating are trained. Between 2010-2015, two different research areas contributed to later MoE advancement: Experts as components: In the traditional MoE setup, the whole system comprises a gating network and multiple experts. MoEs as the whole model have been explored in SVMs, Gaussian Processes, and other methods. The work by Eigen, Ranzato, and Ilya explored MoEs as components of deeper networks. This allows having MoEs as layers in a multilayer network, making it possible for the model to be both large and efficient simultaneously. Conditional Computation: Traditional networks process all input data through every layer. In this period, Yoshua Bengio researched approaches to dynamically activate or deactivate components based on the input token. These works led to exploring a mixture of experts in the context of NLP. Concretely, Shazeer et al. (2017, with “et al.” including Geoffrey Hinton and Jeff Dean, Google’s Chuck Norris) scaled this idea to a 137B LSTM (the de-facto NLP architecture back then, created by Schmidhuber) by introducing sparsity, allowing to keep very fast inference even at high scale. This work focused on translation but faced many challenges, such as high communication costs and training instabilities. MoE layer from the Outrageously Large Neural Network paper MoEs have allowed training multi-trillion parameter models, such as the open-sourced 1.6T parameters Switch Transformers, among others. MoEs have also been explored in Computer Vision, but this blog post will focus on the NLP domain. What is Sparsity? Sparsity uses the idea of conditional computation. While in dense models all the parameters are used for all the inputs, sparsity allows us to only run some parts of the whole system. Let’s dive deeper into Shazeer\\'s exploration of MoEs for translation. The idea of conditional computation (parts of the network are active on a per-example basis) allows one to scale the size of the model without increasing the computation, and hence, this led to thousands of experts being used in each MoE layer. This setup introduces some challenges. For example, although large batch sizes are usually better for performance, batch sizes in MOEs are effectively reduced as data flows through the active experts. For example, if our batched input consists of 10 tokens, five tokens might end in one expert, and the other five tokens might end in five different experts, leading to uneven batch sizes and underutilization. The Making MoEs go brrr section below will discuss other challenges and solutions. How can we solve this? A learned gating network (G) decides which experts (E) to send a part of the input: y=∑i=1nG(x)iEi(x) y = \\\\sum_{i=1}^{n} G(x)_i E_i(x) y=i=1∑n\\u200bG(x)i\\u200bEi\\u200b(x) In this setup, all experts are run for all inputs - it’s a weighted multiplication. But, what happens if G is 0? If that’s the case, there’s no need to compute the respective expert operations and hence we save compute. What’s a typical gating function? In the most traditional setup, we just use a simple network with a softmax function. The network will learn which expert to send the input. Gσ(x)=Softmax(x⋅Wg) G_\\\\sigma(x) = \\\\text{Softmax}(x \\\\cdot W_g) Gσ\\u200b(x)=Softmax(x⋅Wg\\u200b) Shazeer’s work also explored other gating mechanisms, such as Noisy Top-k Gating. This gating approach introduces some (tunable) noise and then keeps the top k values. That is: We add some noise H(x)i=(x⋅Wg)i+StandardNormal()⋅Softplus((x⋅Wnoise)i) H(x)_i = (x \\\\cdot W_{\\\\text{g}})_i + \\\\text{StandardNormal()} \\\\cdot \\\\text{Softplus}((x \\\\cdot W_{\\\\text{noise}})_i) H(x)i\\u200b=(x⋅Wg\\u200b)i\\u200b+StandardNormal()⋅Softplus((x⋅Wnoise\\u200b)i\\u200b) We only pick the top k KeepTopK(v,k)i={viif vi is in the top k elements of v,−∞otherwise. \\\\text{KeepTopK}(v, k)_i = \\\\begin{cases} v_i & \\\\text{if } v_i \\\\text{ is in the top } k \\\\text{ elements of } v, \\\\\\\\ -\\\\infty & \\\\text{otherwise.} \\\\end{cases} KeepTopK(v,k)i\\u200b={vi\\u200b−∞\\u200bif vi\\u200b is in the top k elements of v,otherwise.\\u200b We apply the softmax. G(x)=Softmax(KeepTopK(H(x),k)) G(x) = \\\\text{Softmax}(\\\\text{KeepTopK}(H(x), k)) G(x)=Softmax(KeepTopK(H(x),k)) This sparsity introduces some interesting properties. By using a low enough k (e.g. one or two), we can train and run inference much faster than if many experts were activated. Why not just select the top expert? The initial conjecture was that routing to more than one expert was needed to have the gate learn how to route to different experts, so at least two experts had to be picked. The Switch Transformers section revisits this decision. Why do we add noise? That’s for load balancing! Load balancing tokens for MoEs As discussed before, if all our tokens are sent to just a few popular experts, that will make training inefficient. In a normal MoE training, the gating network converges to mostly activate the same few experts. This self-reinforces as favored experts are trained quicker and hence selected more. To mitigate this, an auxiliary loss is added to encourage giving all experts equal importance. This loss ensures that all experts receive a roughly equal number of training examples. The following sections will also explore the concept of expert capacity, which introduces a threshold of how many tokens can be processed by an expert. In transformers, the auxiliary loss is exposed via the aux_loss parameter. MoEs and Transformers Transformers are a very clear case that scaling up the number of parameters improves the performance, so it’s not surprising that Google explored this with GShard, which explores scaling up transformers beyond 600 billion parameters. GShard replaces every other FFN layer with an MoE layer using top-2 gating in both the encoder and the decoder. The next image shows how this looks like for the encoder part. This setup is quite beneficial for large-scale computing: when we scale to multiple devices, the MoE layer is shared across devices while all the other layers are replicated. This is further discussed in the “Making MoEs go brrr” section. MoE Transformer Encoder from the GShard Paper To maintain a balanced load and efficiency at scale, the GShard authors introduced a couple of changes in addition to an auxiliary loss similar to the one discussed in the previous section: Random routing: in a top-2 setup, we always pick the top expert, but the second expert is picked with probability proportional to its weight. Expert capacity: we can set a threshold of how many tokens can be processed by one expert. If both experts are at capacity, the token is considered overflowed, and it’s sent to the next layer via residual connections (or dropped entirely in other projects). This concept will become one of the most important concepts for MoEs. Why is expert capacity needed? Since all tensor shapes are statically determined at compilation time, but we cannot know how many tokens will go to each expert ahead of time, we need to fix the capacity factor. The GShard paper has contributions by expressing parallel computation patterns that work well for MoEs, but discussing that is outside the scope of this blog post. Note: when we run inference, only some experts will be triggered. At the same time, there are shared computations, such as self-attention, which is applied for all tokens. That’s why when we talk of a 47B model of 8 experts, we can run with the compute of a 12B dense model. If we use top-2, 14B parameters would be used. But given that the attention operations are shared (among others), the actual number of used parameters is 12B. Switch Transformers Although MoEs showed a lot of promise, they struggle with training and fine-tuning instabilities. Switch Transformers is a very exciting work that deep dives into these topics. The authors even released a 1.6 trillion parameters MoE on Hugging Face with 2048 experts, which you can run with transformers. Switch Transformers achieved a 4x pre-train speed-up over T5-XXL. Switch Transformer Layer of the Switch Transformer paper Just as in GShard, the authors replaced the FFN layers with a MoE layer. The Switch Transformers paper proposes a Switch Transformer layer that receives two inputs (two different tokens) and has four experts. Contrary to the initial idea of using at least two experts, Switch Transformers uses a simplified single-expert strategy. The effects of this approach are: The router computation is reduced The batch size of each expert can be at least halved Communication costs are reduced Quality is preserved Switch Transformers also explores the concept of expert capacity. Expert Capacity=(tokens per batchnumber of experts)×capacity factor \\\\text{Expert Capacity} = \\\\left(\\\\frac{\\\\text{tokens per batch}}{\\\\text{number of experts}}\\\\right) \\\\times \\\\text{capacity factor} Expert Capacity=(number of expertstokens per batch\\u200b)×capacity factor The capacity suggested above evenly divides the number of tokens in the batch across the number of experts. If we use a capacity factor greater than 1, we provide a buffer for when tokens are not perfectly balanced. Increasing the capacity will lead to more expensive inter-device communication, so it’s a trade-off to keep in mind. In particular, Switch Transformers perform well at low capacity factors (1-1.25) Switch Transformer authors also revisit and simplify the load balancing loss mentioned in the sections. For each Switch layer, the auxiliary loss is added to the total model loss during training. This loss encourages uniform routing and can be weighted using a hyperparameter. The authors also experiment with selective precision, such as training the experts with bfloat16 while using full precision for the rest of the computations. Lower precision reduces communication costs between processors, computation costs, and memory for storing tensors. The initial experiments, in which both the experts and the gate networks were trained in bfloat16, yielded more unstable training. This was, in particular, due to the router computation: as the router has an exponentiation function, having higher precision is important. To mitigate the instabilities, full precision was used for the routing as well. Using selective precision does not degrade quality and enables faster models This notebook showcases fine-tuning Switch Transformers for summarization, but we suggest first reviewing the fine-tuning section. Switch Transformers uses an encoder-decoder setup in which they did a MoE counterpart of T5. The GLaM paper explores pushing up the scale of these models by training a model matching GPT-3 quality using 1/3 of the energy (yes, thanks to the lower amount of computing needed to train a MoE, they can reduce the carbon footprint by up to an order of magnitude). The authors focused on decoder-only models and few-shot and one-shot evaluation rather than fine-tuning. They used Top-2 routing and much larger capacity factors. In addition, they explored the capacity factor as a metric one can change during training and evaluation depending on how much computing one wants to use. Stabilizing training with router Z-loss The balancing loss previously discussed can lead to instability issues. We can use many methods to stabilize sparse models at the expense of quality. For example, introducing dropout improves stability but leads to loss of model quality. On the other hand, adding more multiplicative components improves quality but decreases stability. Router z-loss, introduced in ST-MoE, significantly improves training stability without quality degradation by penalizing large logits entering the gating network. Since this loss encourages absolute magnitude of values to be smaller, roundoff errors are reduced, which can be quite impactful for exponential functions such as the gating. We recommend reviewing the paper for details. What does an expert learn? The ST-MoE authors observed that encoder experts specialize in a group of tokens or shallow concepts. For example, we might end with a punctuation expert, a proper noun expert, etc. On the other hand, the decoder experts have less specialization. The authors also trained in a multilingual setup. Although one could imagine each expert specializing in a language, the opposite happens: due to token routing and load balancing, there is no single expert specialized in any given language. Table from the ST-MoE paper showing which token groups were sent to which expert. How does scaling the number of experts impact pretraining? More experts lead to improved sample efficiency and faster speedup, but these are diminishing gains (especially after 256 or 512), and more VRAM will be needed for inference. The properties studied in Switch Transformers at large scale were consistent at small scale, even with 2, 4, or 8 experts per layer. Fine-tuning MoEs Mixtral is supported with version 4.36.0 of transformers. You can install it with pip install transformers==4.36.0 --upgrade The overfitting dynamics are very different between dense and sparse models. Sparse models are more prone to overfitting, so we can explore higher regularization (e.g. dropout) within the experts themselves (e.g. we can have one dropout rate for the dense layers and another, higher, dropout for the sparse layers). One question is whether to use the auxiliary loss for fine-tuning. The ST-MoE authors experimented with turning off the auxiliary loss, and the quality was not significantly impacted, even when up to 11% of the tokens were dropped. Token dropping might be a form of regularization that helps prevent overfitting. Switch Transformers observed that at a fixed pretrain perplexity, the sparse model does worse than the dense counterpart in downstream tasks, especially on reasoning-heavy tasks such as SuperGLUE. On the other hand, for knowledge-heavy tasks such as TriviaQA, the sparse model performs disproportionately well. The authors also observed that a fewer number of experts helped at fine-tuning. Another observation that confirmed the generalization issue is that the model did worse in smaller tasks but did well in larger tasks. In the small task (left), we can see clear overfitting as the sparse model does much worse in the validation set. In the larger task (right), the MoE performs well. This image is from the ST-MoE paper. One could experiment with freezing all non-expert weights. That is, we\\'ll only update the MoE layers. This leads to a huge performance drop. We could try the opposite: freezing only the parameters in MoE layers, which worked almost as well as updating all parameters. This can help speed up and reduce memory for fine-tuning. This can be somewhat counter-intuitive as 80% of the parameters are in the MoE layers (in the ST-MoE project). Their hypothesis for that architecture is that, as expert layers only occur every 1/4 layers, and each token sees at most two experts per layer, updating the MoE parameters affects much fewer layers than updating other parameters. By only freezing the MoE layers, we can speed up the training while preserving the quality. This image is from the ST-MoE paper. One last part to consider when fine-tuning sparse MoEs is that they have different fine-tuning hyperparameter setups - e.g., sparse models tend to benefit more from smaller batch sizes and higher learning rates. Sparse models fine-tuned quality improves with higher learning rates and smaller batch sizes. This image is from the ST-MoE paper. At this point, you might be a bit sad that people have struggled to fine-tune MoEs. Excitingly, a recent paper, MoEs Meets Instruction Tuning (July 2023), performs experiments doing: Single task fine-tuning Multi-task instruction-tuning Multi-task instruction-tuning followed by single-task fine-tuning When the authors fine-tuned the MoE and the T5 equivalent, the T5 equivalent was better. When the authors fine-tuned the Flan T5 (T5 instruct equivalent) MoE, the MoE performed significantly better. Not only this, the improvement of the Flan-MoE over the MoE was larger than Flan T5 over T5, indicating that MoEs might benefit much more from instruction tuning than dense models. MoEs benefit more from a higher number of tasks. Unlike the previous discussion suggesting to turn off the auxiliary loss function, the loss actually prevents overfitting. Sparse models benefit more from instruct-tuning compared to dense models. This image is from the MoEs Meets Instruction Tuning paper When to use sparse MoEs vs dense models? Experts are useful for high throughput scenarios with many machines. Given a fixed compute budget for pretraining, a sparse model will be more optimal. For low throughput scenarios with little VRAM, a dense model will be better. Note: one cannot directly compare the number of parameters between sparse and dense models, as both represent significantly different things. Making MoEs go brrr The initial MoE work presented MoE layers as a branching setup, leading to slow computation as GPUs are not designed for it and leading to network bandwidth becoming a bottleneck as the devices need to send info to others. This section will discuss some existing work to make pretraining and inference with these models more practical. MoEs go brrrrr. Parallelism Let’s do a brief review of parallelism: Data parallelism: the same weights are replicated across all cores, and the data is partitioned across cores. Model parallelism: the model is partitioned across cores, and the data is replicated across cores. Model and data parallelism: we can partition the model and the data across cores. Note that different cores process different batches of data. Expert parallelism: experts are placed on different workers. If combined with data parallelism, each core has a different expert and the data is partitioned across all cores With expert parallelism, experts are placed on different workers, and each worker takes a different batch of training samples. For non-MoE layers, expert parallelism behaves the same as data parallelism. For MoE layers, tokens in the sequence are sent to workers where the desired experts reside. Illustration from the Switch Transformers paper showing how data and models are split over cores with different parallelism techniques. Capacity Factor and communication costs Increasing the capacity factor (CF) increases the quality but increases communication costs and memory of activations. If all-to-all communications are slow, using a smaller capacity factor is better. A good starting point is using top-2 routing with 1.25 capacity factor and having one expert per core. During evaluation, the capacity factor can be changed to reduce compute. Serving techniques You can deploy mistralai/Mixtral-8x7B-Instruct-v0.1 to Inference Endpoints. A big downside of MoEs is the large number of parameters. For local use cases, one might want to use a smaller model. Let\\'s quickly discuss a few techniques that can help with serving: The Switch Transformers authors did early distillation experiments. By distilling a MoE back to its dense counterpart, they could keep 30-40% of the sparsity gains. Distillation, hence, provides the benefits of faster pretaining and using a smaller model in production. Recent approaches modify the routing to route full sentences or tasks to an expert, permitting extracting sub-networks for serving. Aggregation of Experts (MoE): this technique merges the weights of the experts, hence reducing the number of parameters at inference time. More on efficient training FasterMoE (March 2022) analyzes the performance of MoEs in highly efficient distributed systems and analyzes the theoretical limit of different parallelism strategies, as well as techniques to skew expert popularity, fine-grained schedules of communication that reduce latency, and an adjusted topology-aware gate that picks experts based on the lowest latency, leading to a 17x speedup. Megablocks (Nov 2022) explores efficient sparse pretraining by providing new GPU kernels that can handle the dynamism present in MoEs. Their proposal never drops tokens and maps efficiently to modern hardware, leading to significant speedups. What’s the trick? Traditional MoEs use batched matrix multiplication, which assumes all experts have the same shape and the same number of tokens. In contrast, Megablocks expresses MoE layers as block-sparse operations that can accommodate imbalanced assignment. Block-sparse matrix multiplication for differently sized experts and number of tokens (from [MegaBlocks](https://arxiv.org/abs/2211.15841)). Open Source MoEs There are nowadays several open source projects to train MoEs: Megablocks: https://github.com/stanford-futuredata/megablocks Fairseq: https://github.com/facebookresearch/fairseq/tree/main/examples/moe_lm OpenMoE: https://github.com/XueFuzhao/OpenMoE In the realm of released open access MoEs, you can check: Switch Transformers (Google): Collection of T5-based MoEs going from 8 to 2048 experts. The largest model has 1.6 trillion parameters. NLLB MoE (Meta): A MoE variant of the NLLB translation model. OpenMoE: A community effort that has released Llama-based MoEs. Mixtral 8x7B (Mistral): A high-quality MoE that outperforms Llama 2 70B and has much faster inference. A instruct-tuned model is also released. Read more about it in the announcement blog post. Exciting directions of work Further experiments on distilling a sparse MoE back to a dense model with less parameters but similar number of parameters. Another area will be quantization of MoEs. QMoE (Oct. 2023) is a good step in this direction by quantizing the MoEs to less than 1 bit per parameter, hence compressing the 1.6T Switch Transformer which uses 3.2TB accelerator to just 160GB. So, TL;DR, some interesting areas to explore: Distilling Mixtral into a dense model Explore model merging techniques of the experts and their impact in inference time Perform extreme quantization techniques of Mixtral Some resources Adaptive Mixture of Local Experts (1991) Learning Factored Representations in a Deep Mixture of Experts (2013) Outrageously Large Neural Networks: The Sparsely-Gated Mixture-of-Experts Layer (2017) GShard: Scaling Giant Models with Conditional Computation and Automatic Sharding (Jun 2020) GLaM: Efficient Scaling of Language Models with Mixture-of-Experts (Dec 2021) Switch Transformers: Scaling to Trillion Parameter Models with Simple and Efficient Sparsity (Jan 2022) ST-MoE: Designing Stable and Transferable Sparse Expert Models (Feb 2022) FasterMoE: modeling and optimizing training of large-scale dynamic pre-trained models(April 2022) MegaBlocks: Efficient Sparse Training with Mixture-of-Experts (Nov 2022) Mixture-of-Experts Meets Instruction Tuning:A Winning Combination for Large Language Models (May 2023) Mixtral-8x7B-v0.1, Mixtral-8x7B-Instruct-v0.1. Citation @misc {sanseviero2023moe, author = { Omar Sanseviero and Lewis Tunstall and Philipp Schmid and Sourab Mangrulkar and Younes Belkada and Pedro Cuenca }, title = { Mixture of Experts Explained }, year = 2023, url = { https://huggingface.co/blog/moe }, publisher = { Hugging Face Blog } } Sanseviero, et al., \"Mixture of Experts Explained\", Hugging Face Blog, 2023. More Articles from our Blog SegMoE: Segmind Mixture of Diffusion Experts By Warlord-K February 3, 2024 guest Welcome Mixtral - a SOTA Mixture of Experts on Hugging Face By lewtun December 11, 2023 • 6 Upvote 77 +65 Company © Hugging Face TOS Privacy About Jobs Website Models Datasets Spaces Pricing Docs')"
      ]
     },
     "execution_count": 4,
     "metadata": {},
     "output_type": "execute_result"
    }
   ],
   "source": [
    "download(\"https://arxiv.org/pdf/2401.01325\")\n",
    "download(\"https://arxiv.org/pdf/2310.02207\")\n",
    "download(\"https://huggingface.co/blog/moe#:~:text=Mixture%20of%20Experts%20enable%20models,budget%20as%20a%20dense%20model.\")"
   ]
  },
  {
   "cell_type": "markdown",
   "metadata": {},
   "source": [
    "i've downloaded three papers that i'm going to embed"
   ]
  },
  {
   "cell_type": "code",
   "execution_count": null,
   "metadata": {},
   "outputs": [],
   "source": [
    "from sentence_transformers import SentenceTransformer\n",
    "from sentence_transformers.util import cos_sim\n",
    "from sentence_transformers.quantization import quantize_embeddings\n",
    "\n",
    "# 1. Specify preffered dimensions\n",
    "dimensions = 512\n",
    "\n",
    "# 2. load model\n",
    "model = SentenceTransformer(\"mixedbread-ai/mxbai-embed-large-v1\", truncate_dim=dimensions)\n",
    "\n",
    "query_prefix = 'Represent this sentence for searching relevant passages: '"
   ]
  },
  {
   "cell_type": "code",
   "execution_count": null,
   "metadata": {},
   "outputs": [],
   "source": [
    "import os\n",
    "\n",
    "# load all documents in the data folder, returning a list of text content\n",
    "def load(dir: str) -> list[str]:\n",
    "    data = []\n",
    "    for filename in os.listdir(dir):\n",
    "        with open(f'data/{filename}', 'r') as f:\n",
    "            data.append(f.read())\n",
    "    return data"
   ]
  },
  {
   "cell_type": "code",
   "execution_count": null,
   "metadata": {},
   "outputs": [],
   "source": [
    "documents = load('data')\n",
    "db_embedding = model.encode(documents)"
   ]
  },
  {
   "cell_type": "code",
   "execution_count": null,
   "metadata": {},
   "outputs": [],
   "source": [
    "def search(query: str) -> list[str]:\n",
    "    query = query_prefix + query\n",
    "    query_embedding = model.encode(query)\n",
    "    similarities = cos_sim(db_embedding, query_embedding)\n",
    "    return similarities"
   ]
  },
  {
   "cell_type": "markdown",
   "metadata": {},
   "source": [
    "we've got three papers embedded in our database. this is a list of specific concepts from one of these papers:\n",
    "\n",
    "1. positional out-of-distribution\n",
    "2. passkey retrieval\n",
    "3. context extension without fine-tuning\n",
    "4. RoPE\n",
    "5. selfextend"
   ]
  },
  {
   "cell_type": "code",
   "execution_count": null,
   "metadata": {},
   "outputs": [],
   "source": [
    "search_queries = [\"positional out-of-distribution\", \"passkey retrieval\",\n",
    "                  \"context extension without fine-tuning\", \"RoPE\",\n",
    "                  \"selfextend\"]\n",
    "\n",
    "for sq in search_queries:\n",
    "    print(f\"Query: {sq}\")\n",
    "    results = search(sq)\n",
    "    for i, r in enumerate(results):\n",
    "        print(f\"Document {i+1}: {r}\")\n",
    "    print()"
   ]
  },
  {
   "cell_type": "markdown",
   "metadata": {},
   "source": [
    "The concepts are all extracted from Document 3. Note the wavering stability in similarity between the query and doc 3."
   ]
  },
  {
   "cell_type": "markdown",
   "metadata": {},
   "source": [
    "Let's see what happens if we split each document into N chunks, linking each chunk back to its source document. This should drastically increase similarity."
   ]
  },
  {
   "cell_type": "code",
   "execution_count": null,
   "metadata": {},
   "outputs": [],
   "source": [
    "def chunk(documents: list[str], N: int) -> Tuple[list[str], list[int]]:\n",
    "    \"\"\" Split documents into 512-word segments. \"\"\"\n",
    "    prev_chunk_index = 0\n",
    "    chunk_index = []\n",
    "    document_chunks = []\n",
    "    for _, doc in enumerate(documents):\n",
    "        # chunk document into 512-word segments\n",
    "        chunks = [doc[i:i+N] for i in range(0, len(doc), N)]\n",
    "        if len(chunks[-1]) != N:\n",
    "            chunks.pop()\n",
    "        \n",
    "        chunk_index.append(prev_chunk_index + len(chunks))\n",
    "        document_chunks.extend(chunks)\n",
    "        prev_chunk_index = chunk_index[-1]\n",
    "\n",
    "    return document_chunks, chunk_index"
   ]
  },
  {
   "cell_type": "markdown",
   "metadata": {},
   "source": [
    "Split the documents into fixed-size segments. For each document, create segments of a specified length, ensuring uniformity by discarding smaller, incomplete segments. Maintain a cumulative count of segments for each document and compile all segments into a single list. The function returns both the list of segments and the cumulative segment indices for tracking purposes."
   ]
  },
  {
   "cell_type": "code",
   "execution_count": null,
   "metadata": {},
   "outputs": [],
   "source": [
    "import numpy\n",
    "import bisect\n",
    "\n",
    "def search_top_k(query: str, top_k: int, n_chunks: list[int]) -> list[str]:\n",
    "    \"\"\"\n",
    "    Given a query, return the top-k most relevant documents, by index in n_chunks.\n",
    "    \"\"\"\n",
    "    query = query_prefix + query\n",
    "    query_embedding = model.encode(query)\n",
    "    similarities = cos_sim(db_embedding, query_embedding).numpy()\n",
    "    top_k_indices = numpy.argsort(similarities)[:top_k]\n",
    "    \n",
    "    source_documents = []\n",
    "    for ind in top_k_indices:\n",
    "        doc = bisect.bisect_right(n_chunks, ind)\n",
    "        source_documents.append(doc)\n",
    "\n",
    "    return source_documents"
   ]
  },
  {
   "cell_type": "markdown",
   "metadata": {},
   "source": [
    "i'm still uncertain on the implementation of search, it depends on what we want to display as results of a query. In it's current state, search will return the documents that match the top_k chunks in the embedding search, without filtering out multiple pointers to the same source."
   ]
  },
  {
   "cell_type": "code",
   "execution_count": 34,
   "metadata": {},
   "outputs": [],
   "source": [
    "# static per db\n",
    "documents = load('data')\n",
    "chunks, n_chunks = chunk(documents, 512) \n",
    "db_embedding = model.encode(chunks)"
   ]
  },
  {
   "cell_type": "code",
   "execution_count": null,
   "metadata": {},
   "outputs": [],
   "source": [
    "search_queries = [\"positional out-of-distribution\", \"passkey retrieval\",\n",
    "                  \"context extension without fine-tuning\", \"RoPE\",\n",
    "                  \"selfextend\"]\n",
    "\n",
    "for sq in search_queries:\n",
    "    print(f\"Query: {sq}\")\n",
    "    result = search_top_k(sq, 3, n_chunks)\n",
    "    print(f\"Top-3 documents: {result}\")\n",
    "    print()"
   ]
  },
  {
   "cell_type": "markdown",
   "metadata": {},
   "source": [
    "The results aren't surprising, but encouraging nonetheless. We need to remember that we're going to introduce a re-ranking algorithm around here as well. We'll re-rank on the chunked embeddings, then comes the question whether we want to completely disregard chunks that pertain to the same source document or not, this depends on what we want to display in the results of the search; just the source document or the best matching chunk(s) as well. \n",
    "\n",
    "you know what, on second thought, after re-ranking the embedding search results we could actually: (1) **sum** the similarity scores per source document or (2) count the number of pointers to the source document! This would improve the search, prioritizing documents that contain multiple matches to the query."
   ]
  },
  {
   "cell_type": "markdown",
   "metadata": {},
   "source": [
    "let's gather everything that we're using down below"
   ]
  },
  {
   "cell_type": "code",
   "execution_count": 7,
   "metadata": {},
   "outputs": [],
   "source": [
    "import numpy as np\n",
    "import os\n",
    "\n",
    "import requests\n",
    "import fitz  # PyMuPDF\n",
    "from bs4 import BeautifulSoup\n",
    "from typing import Tuple\n",
    "from torch import Tensor \n",
    "\n",
    "def download(url: str) -> Tuple[str, str]:\n",
    "    \"\"\"Download content from the given URL, determine its type, and extract the title and text.\"\"\"\n",
    "    response = requests.get(url)\n",
    "    content_type = response.headers['Content-Type']\n",
    "\n",
    "    def _parse_html(content: bytes) -> Tuple[str, str]:\n",
    "        \"\"\"\n",
    "        Extract the title and text content from HTML data.\n",
    "        \"\"\"\n",
    "        soup = BeautifulSoup(content, 'html.parser')\n",
    "        title = soup.find('title').text\n",
    "        text = soup.get_text()\n",
    "        \n",
    "        text = text.replace('\\n', ' ')\n",
    "        text = ' '.join(text.split())\n",
    "        \n",
    "        return title, text\n",
    "    \n",
    "    def _parse_pdf(content: bytes) -> Tuple[str, str]:\n",
    "        \"\"\"\n",
    "        Extract the title and text content from a PDF file.\n",
    "        \"\"\"\n",
    "        filename = 'temp.pdf'\n",
    "        with open(filename, 'wb') as f:\n",
    "            f.write(content)\n",
    "        \n",
    "        doc = fitz.open(filename)\n",
    "        text = \"\"\n",
    "        for page in doc:\n",
    "            text += page.get_text()\n",
    "        \n",
    "        text = text.replace('\\n', ' ')\n",
    "        text = ' '.join(text.split())\n",
    "\n",
    "        # Extract title from metadata or the first block of text\n",
    "        metadata = doc.metadata\n",
    "        title = metadata.get('title', '')\n",
    "        if not title:\n",
    "            first_page = doc[0]\n",
    "            blocks = first_page.get_text(\"blocks\")\n",
    "            \n",
    "            # Assuming the title is in the first block\n",
    "            if blocks:\n",
    "                title = blocks[0][4].strip()\n",
    "            else:\n",
    "                title = 'unknown'\n",
    "\n",
    "        os.remove(filename)\n",
    "        return title, text\n",
    "\n",
    "    if 'text/html' in content_type:\n",
    "        title, text = _parse_html(response.content)\n",
    "    elif 'application/pdf' in content_type:\n",
    "        title, text = _parse_pdf(response.content)\n",
    "    else:\n",
    "        raise Exception('Unsupported content type')\n",
    "    \n",
    "    # Save content to file\n",
    "    with open(f'data/{title}.txt', 'w') as f:\n",
    "        f.write(text)\n",
    "\n",
    "    return title, text\n",
    "\n",
    "def load(dir: str) -> list[str]:\n",
    "    \"\"\" Load all documents in the data folder, returning a list of text content.\"\"\"\n",
    "    data = []\n",
    "    for filename in os.listdir(dir):\n",
    "        with open(f'data/{filename}', 'r') as f:\n",
    "            data.append(f.read())\n",
    "    return data\n",
    "\n",
    "def chunk(documents: list[str], N: int) -> Tuple[list[str], list[int]]:\n",
    "    \"\"\" Split documents into 512-word segments. \"\"\"\n",
    "    prev_chunk_index = 0\n",
    "    chunk_index = []\n",
    "    document_chunks = []\n",
    "    for _, doc in enumerate(documents):\n",
    "        # chunk document into 512-word segments\n",
    "        chunks = [doc[i:i+N] for i in range(0, len(doc), N)]\n",
    "        if len(chunks[-1]) != N:\n",
    "            chunks.pop()\n",
    "        \n",
    "        chunk_index.append(prev_chunk_index + len(chunks))\n",
    "        document_chunks.extend(chunks)\n",
    "        prev_chunk_index = chunk_index[-1]\n",
    "\n",
    "    return document_chunks, chunk_index\n",
    "\n",
    "def search_top_k(db_embedding: Tensor, query: str, top_k: int) -> Tuple[list[int], list[int]]:\n",
    "    \"\"\"\n",
    "    Given a query, find top-k document chunk matches by cosine similarity. Exact NN search.\n",
    "    \"\"\"\n",
    "    query = query_prefix + query\n",
    "    query_embedding = model.encode(query)\n",
    "    similarities = cos_sim(db_embedding, query_embedding).numpy()\n",
    "    top_k_indices = np.argsort(similarities, axis=0, )[-top_k:][::-1]\n",
    "    \n",
    "    return top_k_indices.flatten(), similarities[top_k_indices].flatten()\n",
    "\n",
    "def faiss(db_embedding: np.ndarray, query: str, top_k: int) -> Tuple[list[int], list[int]]:\n",
    "    \"\"\"\n",
    "    Given a query, find top-k document chunk matches by cosine similarity. Exact NN search.\n",
    "    \"\"\"\n",
    "    query = query_prefix + query\n",
    "    query_embedding = model.encode(query)\n",
    "    similarities = cos_sim(db_embedding, query_embedding).numpy()\n",
    "    top_k_indices = np.argsort(similarities, axis=0, )[-top_k:][::-1]\n",
    "    \n",
    "    return top_k_indices.flatten(), similarities[top_k_indices].flatten()\n",
    "\n",
    "def aggregate_and_sort(documents, scores):\n",
    "    \"\"\" Aggregate scores by source document and sort the documents by new scores.\"\"\"\n",
    "\n",
    "    unique_docs, inverse_indices = np.unique(documents, return_inverse=True)\n",
    "    \n",
    "    # aggregate scores \n",
    "    aggregated_scores = np.bincount(inverse_indices, weights=scores)\n",
    "    \n",
    "    # sort descending order\n",
    "    sorted_indices = np.argsort(-aggregated_scores)\n",
    "    \n",
    "    sorted_documents = unique_docs[sorted_indices]\n",
    "    sorted_scores = aggregated_scores[sorted_indices]\n",
    "    \n",
    "    return sorted_documents, sorted_scores\n",
    "\n",
    "def search(db_embedding: Tensor, query: str, top_k: int, n_chunks: list[int]) -> list[int]:\n",
    "    \"\"\"\n",
    "    Search the embedding database for the most relevant documents to the query. \n",
    "    \"\"\"\n",
    "    \n",
    "    top_k_indices, scores = search_top_k(db_embedding, query, top_k)\n",
    "    # re-rank the top-k document chunks\n",
    "    top_k_documents = np.searchsorted(n_chunks, top_k_indices, side='right')\n",
    "    top_k_documents = aggregate_and_sort(top_k_documents, scores)\n",
    "\n",
    "    return top_k_documents\n",
    "    "
   ]
  },
  {
   "cell_type": "code",
   "execution_count": null,
   "metadata": {},
   "outputs": [],
   "source": [
    "import fai\n",
    "def faiss(index, query: str, top_k: int) -> Tuple[list[int], list[int]]:\n",
    "    \"\"\"\n",
    "    Given a query, find top-k document chunk matches by cosine similarity. Exact NN search.\n",
    "    \"\"\"\n",
    "    query = query_prefix + query\n",
    "    query_embedding = model.encode(query)\n",
    "\n",
    "    # Perform ANN search\n",
    "    D, I = index.search(query_embedding[np.newaxis, :], top_k)\n",
    "    \n",
    "    return I.flatten(), D.flatten()\n",
    "\n",
    "def aggregate_and_sort(documents, scores):\n",
    "    \"\"\" Aggregate scores by source document and sort the documents by new scores.\"\"\"\n",
    "\n",
    "    unique_docs, inverse_indices = np.unique(documents, return_inverse=True)\n",
    "    \n",
    "    # aggregate scores \n",
    "    aggregated_scores = np.bincount(inverse_indices, weights=scores)\n",
    "    \n",
    "    # sort descending order\n",
    "    sorted_indices = np.argsort(-aggregated_scores)\n",
    "    \n",
    "    sorted_documents = unique_docs[sorted_indices]\n",
    "    sorted_scores = aggregated_scores[sorted_indices]\n",
    "    \n",
    "    return sorted_documents, sorted_scores\n",
    "\n",
    "def search2(index, query: str, top_k: int, n_chunks: list[int]) -> list[int]:\n",
    "    \"\"\"\n",
    "    Search the embedding database for the most relevant documents to the query. \n",
    "    \"\"\"\n",
    "    \n",
    "    top_k_indices, scores = search_top_k(index, query, top_k)\n",
    "    # re-rank the top-k document chunks\n",
    "    top_k_documents = np.searchsorted(n_chunks, top_k_indices, side='right')\n",
    "    top_k_documents = aggregate_and_sort(top_k_documents, scores)\n",
    "\n",
    "    return top_k_documents"
   ]
  },
  {
   "cell_type": "code",
   "execution_count": 16,
   "metadata": {},
   "outputs": [
    {
     "name": "stderr",
     "output_type": "stream",
     "text": [
      "/home/leon/git/leon/mindex/env/lib/python3.10/site-packages/huggingface_hub/file_download.py:1132: FutureWarning: `resume_download` is deprecated and will be removed in version 1.0.0. Downloads always resume when possible. If you want to force a new download, use `force_download=True`.\n",
      "  warnings.warn(\n"
     ]
    }
   ],
   "source": [
    "from sentence_transformers import SentenceTransformer\n",
    "from sentence_transformers.util import cos_sim\n",
    "from sentence_transformers.quantization import quantize_embeddings\n",
    "\n",
    "# 1. Specify preffered dimensions\n",
    "dimensions = 1024\n",
    "\n",
    "# 2. load model\n",
    "model = SentenceTransformer(\"mixedbread-ai/mxbai-embed-large-v1\", truncate_dim=dimensions)\n",
    "\n",
    "query_prefix = 'Represent this sentence for searching relevant passages: '\n",
    "\n",
    "# load data and initialize embedded db\n",
    "documents = load('data')\n",
    "chunks, n_chunks = chunk(documents, 512) \n",
    "db_embedding = model.encode(chunks)"
   ]
  },
  {
   "cell_type": "code",
   "execution_count": null,
   "metadata": {},
   "outputs": [],
   "source": [
    "import "
   ]
  },
  {
   "cell_type": "code",
   "execution_count": 20,
   "metadata": {},
   "outputs": [
    {
     "name": "stdout",
     "output_type": "stream",
     "text": [
      "6.86 ms ± 318 µs per loop (mean ± std. dev. of 7 runs, 100 loops each)\n"
     ]
    }
   ],
   "source": [
    "%timeit search(db_embedding, \"positional out-of-distribution\", 50, n_chunks)"
   ]
  },
  {
   "cell_type": "markdown",
   "metadata": {},
   "source": [
    "this is everything we've got so far. i've cleaned up the search code, it now aggregates similarity scores pertaining to the same\n",
    "source document. we also have easy access to the chunk matches if we need them down the line. it's using brute-force search atm, we should consider\n",
    "swapping this to something more effective.\n",
    "\n",
    "we're still missing a [re-ranking algorithm](https://huggingface.co/BAAI/bge-reranker-base). i'm yet unsure if this is actually necessary given the small embedding space we're working with. i'll leave this as an ablation\n",
    "for much later.\n",
    "\n",
    "i'm keen on changing the whole n_chunks / document setup we've got right now. i feel like this is a band-aid solution that isn't going to hold up long term. we need to think of a better way to connect documents in /data to chunks. there should also be a link to the source url. this needs to be saved to disk along side the embedding database. it needs to be extendable."
   ]
  }
 ],
 "metadata": {
  "kernelspec": {
   "display_name": "mindex",
   "language": "python",
   "name": "python3"
  },
  "language_info": {
   "codemirror_mode": {
    "name": "ipython",
    "version": 3
   },
   "file_extension": ".py",
   "mimetype": "text/x-python",
   "name": "python",
   "nbconvert_exporter": "python",
   "pygments_lexer": "ipython3",
   "version": "3.10.12"
  }
 },
 "nbformat": 4,
 "nbformat_minor": 2
}
